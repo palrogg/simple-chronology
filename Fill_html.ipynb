{
 "cells": [
  {
   "cell_type": "code",
   "execution_count": 6,
   "metadata": {},
   "outputs": [],
   "source": [
    "import re"
   ]
  },
  {
   "cell_type": "code",
   "execution_count": 1,
   "metadata": {},
   "outputs": [],
   "source": [
    "with open('header.html', 'r') as f:\n",
    "    header = f.read()"
   ]
  },
  {
   "cell_type": "code",
   "execution_count": 2,
   "metadata": {},
   "outputs": [],
   "source": [
    "p = '''<p class=\"chrono\"><span><b>{date}</b> {text}</span></p>\n",
    "'''"
   ]
  },
  {
   "cell_type": "code",
   "execution_count": 3,
   "metadata": {},
   "outputs": [],
   "source": [
    "text = '''1997 Peter Brabeck-Letmathe devient directeur général et insuffle sa vision nutrition health and wellness, abrégée NHW\n",
    "\n",
    "2007 Paul Bulcke succède à Peter Brabeck-Letmathe\n",
    "\n",
    "2009 Nestlé rachète les aliments pour bébé Gerber à Novartis\n",
    "\n",
    "2010 Alcon, spécialisé dans l'ophtalmologie, est vendu à Novartis\n",
    "\n",
    "2011 Nestlé fonde Nestlé Health Science, filiale dédiée à la nutrition médicale\n",
    "\n",
    "2014 Nestlé rachète Galderma à L'Oréal et crée Nestlé Skin Health\n",
    "\n",
    "avril 2016 Nestlé crée la coentreprise Froneri avec le britannique R&R pour ses glaces et surgelés en Europe\n",
    "\n",
    "26 juin 2016 Mark Schneider est nommé à la succession de Paul Bulcke à la surprise générale\n",
    "\n",
    "1er janvier 2017 Mark Schneider entre en fonction\n",
    "\n",
    "juin 2017 Nestlé annonce la mise en vente de ses activités de confiserie aux Etats-Unis. Chose faite à Ferrero six mois plus tard.\n",
    "\n",
    "février 2018 Nestlé ferme l'usine Galderma près de Nice\n",
    "\n",
    "début mai 2018 Nestlé achète pour 7 milliards la licence des cafés Starbucks\n",
    "\n",
    "29 mai 2018 Le groupe délocalise sa division informatique Globe de Vaud vers Barcelone, 500 postes sont touchés\n",
    "\n",
    "septembre 2018 le groupe met en vente sa division dermatologique Nestlé Skin Health\n",
    "\n",
    "16 novembre 2018 La fermeture du musée Nest, centré sur les produits Nestlé, est annoncée. Le site accueillera dès 2021 le siège mondial de Nespresso\n",
    "\n",
    "mai 2019 Mark Schneider, dressant le bilan de deux ans «riches en événements» promet davantage encore pour la décennie à venir, avec l'innovation pour pilier'''"
   ]
  },
  {
   "cell_type": "code",
   "execution_count": 11,
   "metadata": {},
   "outputs": [],
   "source": [
    "contents = header\n",
    "for line in [i for i in text.split('\\n') if i != '']:\n",
    "    match = re.match('(.*?\\d{4})\\s(.*)', line)\n",
    "    if not match:\n",
    "        print('ERREUR avec', line)\n",
    "    else:\n",
    "        contents += p.format(date=match.group(1), text=match.group(2))"
   ]
  },
  {
   "cell_type": "code",
   "execution_count": 12,
   "metadata": {},
   "outputs": [],
   "source": [
    "with open('index.html', 'w') as fp:\n",
    "    fp.write(contents)\n",
    "!open -a \"Google Chrome\" index.html"
   ]
  },
  {
   "cell_type": "code",
   "execution_count": null,
   "metadata": {},
   "outputs": [],
   "source": []
  }
 ],
 "metadata": {
  "kernelspec": {
   "display_name": "Python 3",
   "language": "python",
   "name": "python3"
  },
  "language_info": {
   "codemirror_mode": {
    "name": "ipython",
    "version": 3
   },
   "file_extension": ".py",
   "mimetype": "text/x-python",
   "name": "python",
   "nbconvert_exporter": "python",
   "pygments_lexer": "ipython3",
   "version": "3.7.3"
  }
 },
 "nbformat": 4,
 "nbformat_minor": 2
}
